{
 "cells": [
  {
   "cell_type": "markdown",
   "metadata": {},
   "source": [
    "# Week 7: Files"
   ]
  },
  {
   "cell_type": "markdown",
   "metadata": {},
   "source": [
    "Activity 1:"
   ]
  },
  {
   "cell_type": "code",
   "execution_count": 8,
   "metadata": {},
   "outputs": [
    {
     "name": "stdout",
     "output_type": "stream",
     "text": [
      "Student Name\tAssignment 1\tAssignment 2\tFinal Exam\n",
      "\n",
      "Alice\t75.2\t69.1\t68.3\n",
      "\n",
      "Bob\t45.8\t70.7\t73.4\n",
      "\n",
      "Charlie\t68.7\t47.3\t72.9\n",
      "\n",
      "David\t72.3\t68.4\t43.6\n",
      "\n",
      "Emily\t49.7\t74.8\t70.1\n",
      "\n",
      "Frank\t71.6\t42.5\t75.2\n",
      "\n",
      "Grace\t73.9\t68.2\t46.7\n",
      "\n",
      "Hannah\t44.2\t70.5\t69.8\n",
      "\n",
      "Isabel\t69.8\t42.1\t49.3\n",
      "\n",
      "Jack\t70.7\t48.6\t70.9\n",
      "\n"
     ]
    }
   ],
   "source": [
    "inputFile = open(\"grades.tsv\", \"r\")\n",
    "\n",
    "line = inputFile.readline()\n",
    "while line != \"\":\n",
    "    print(line)\n",
    "    line = inputFile.readline()\n",
    "\n",
    "inputFile.close()"
   ]
  },
  {
   "cell_type": "markdown",
   "metadata": {},
   "source": [
    "Activity 2:"
   ]
  },
  {
   "cell_type": "code",
   "execution_count": 27,
   "metadata": {},
   "outputs": [
    {
     "name": "stdout",
     "output_type": "stream",
     "text": [
      "[['Alice', '75.2', '69.1', '68.3'], ['Bob', '45.8', '70.7', '73.4'], ['Charlie', '68.7', '47.3', '72.9'], ['David', '72.3', '68.4', '43.6'], ['Emily', '49.7', '74.8', '70.1'], ['Frank', '71.6', '42.5', '75.2'], ['Grace', '73.9', '68.2', '46.7'], ['Hannah', '44.2', '70.5', '69.8'], ['Isabel', '69.8', '42.1', '49.3'], ['Jack', '70.7', '48.6', '70.9']]\n"
     ]
    }
   ],
   "source": [
    "def check_float(student_grades):\n",
    "    try:\n",
    "        float(student_grades)\n",
    "        return True\n",
    "    except ValueError:\n",
    "        return False\n",
    "\n",
    "def read_grades(fileName):\n",
    "    inputFile = open(fileName, \"r\")\n",
    "    data = []\n",
    "    line = inputFile.readline()\n",
    "    while line != \"\":\n",
    "        student_grades = line.split()\n",
    "        f = check_float(student_grades[1])\n",
    "        if f:\n",
    "            data.append(student_grades)\n",
    "        line = inputFile.readline()\n",
    "    inputFile.close()\n",
    "    return data\n",
    "\n",
    "\n",
    "\n",
    "def main():\n",
    "    student_list = read_grades(\"grades.tsv\")\n",
    "    print(student_list)\n",
    "main()"
   ]
  },
  {
   "cell_type": "markdown",
   "metadata": {},
   "source": [
    "Activity 3:"
   ]
  },
  {
   "cell_type": "code",
   "execution_count": 38,
   "metadata": {},
   "outputs": [
    {
     "name": "stdout",
     "output_type": "stream",
     "text": [
      "[['Alice,', '69.88'], ['Bob,', '67.21'], ['Charlie,', '65.66'], ['David,', '55.54'], ['Emily,', '67.19'], ['Frank,', '66.31'], ['Grace,', '57.52'], ['Hannah,', '64.86'], ['Isabel,', '51.6'], ['Jack,', '65.28']]\n"
     ]
    }
   ],
   "source": [
    "def check_float(student_grades):\n",
    "    try:\n",
    "        float(student_grades)\n",
    "        return True\n",
    "    except ValueError:\n",
    "        return False\n",
    "\n",
    "def read_grades(fileName):\n",
    "    inputFile = open(fileName, \"r\")\n",
    "    data = []\n",
    "    line = inputFile.readline()\n",
    "    while line != \"\":\n",
    "        student_grades = line.split()\n",
    "        f = check_float(student_grades[1])\n",
    "        if f:\n",
    "            data.append(student_grades)\n",
    "        line = inputFile.readline()\n",
    "    inputFile.close()\n",
    "    return data\n",
    "\n",
    "def calc_final_grades(student_list):\n",
    "    temp_list = student_list\n",
    "    final_list = [[\"Student Name\", \"Final Grade\"]]\n",
    "\n",
    "    for element in temp_list:\n",
    "        students_final = []\n",
    "        name = element.pop(0)\n",
    "        students_final.append(name)\n",
    "        final_grade = float(element[0]) * 0.2 + float(element[1]) * 0.25 + float(element[2]) * 0.55\n",
    "        students_final.append(round(final_grade, 2))\n",
    "\n",
    "        final_list.append(students_final)\n",
    "    return final_list\n",
    "\n",
    "def write_grades(fileName, final_list):\n",
    "    outputFile = open(fileName, \"w\")\n",
    "    for element in final_list:\n",
    "        outputFile.write(f\"{element[0]}, {element[1]}\\n\")\n",
    "    \n",
    "\n",
    "def main():\n",
    "    student_list = read_grades(\"grades.tsv\")\n",
    "    final_list = calc_final_grades(student_list)\n",
    "    write_grades(\"final_grades.csv\", final_list)\n",
    "    print(read_grades(\"final_grades.csv\"))\n",
    "\n",
    "main()"
   ]
  }
 ],
 "metadata": {
  "kernelspec": {
   "display_name": "Python 3",
   "language": "python",
   "name": "python3"
  },
  "language_info": {
   "codemirror_mode": {
    "name": "ipython",
    "version": 3
   },
   "file_extension": ".py",
   "mimetype": "text/x-python",
   "name": "python",
   "nbconvert_exporter": "python",
   "pygments_lexer": "ipython3",
   "version": "3.10.11"
  }
 },
 "nbformat": 4,
 "nbformat_minor": 2
}
