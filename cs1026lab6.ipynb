{
 "cells": [
  {
   "cell_type": "markdown",
   "metadata": {},
   "source": [
    "# Lab 6\n",
    "## Practical Exercises\n",
    "Date: October 24th, 2023<br>\n",
    "Name: Isa Khan<br>\n",
    "Prof: Hanan Lutfiyya<br>\n",
    "Section: 002\n"
   ]
  },
  {
   "cell_type": "markdown",
   "metadata": {},
   "source": [
    "Activity 1:"
   ]
  },
  {
   "cell_type": "code",
   "execution_count": 1,
   "metadata": {},
   "outputs": [
    {
     "name": "stdout",
     "output_type": "stream",
     "text": [
      "The positive keywords are ['love', 'happy', 'greatest']\n",
      "The neutral keywords are ['like', 'tired']\n",
      "The negative keywords are ['hate', 'hurt', 'alone', 'sad', 'regrets']\n",
      "The sentiment of the tweet is 20\n"
     ]
    },
    {
     "ename": "FileNotFoundError",
     "evalue": "[Errno 2] No such file or directory: 'text.txt'",
     "output_type": "error",
     "traceback": [
      "\u001b[1;31m---------------------------------------------------------------------------\u001b[0m",
      "\u001b[1;31mFileNotFoundError\u001b[0m                         Traceback (most recent call last)",
      "\u001b[1;32mc:\\Users\\isakh\\PycharmProjects\\CS1026\\cs1026lab6.ipynb Cell 3\u001b[0m line \u001b[0;36m3\n\u001b[0;32m     <a href='vscode-notebook-cell:/c%3A/Users/isakh/PycharmProjects/CS1026/cs1026lab6.ipynb#W2sZmlsZQ%3D%3D?line=25'>26</a>\u001b[0m \u001b[39mprint\u001b[39m(\u001b[39m\"\u001b[39m\u001b[39mThe sentiment of the tweet is \u001b[39m\u001b[39m{}\u001b[39;00m\u001b[39m\"\u001b[39m\u001b[39m.\u001b[39mformat(sentiment))\n\u001b[0;32m     <a href='vscode-notebook-cell:/c%3A/Users/isakh/PycharmProjects/CS1026/cs1026lab6.ipynb#W2sZmlsZQ%3D%3D?line=27'>28</a>\u001b[0m f\u001b[39m.\u001b[39mclose()\n\u001b[1;32m---> <a href='vscode-notebook-cell:/c%3A/Users/isakh/PycharmProjects/CS1026/cs1026lab6.ipynb#W2sZmlsZQ%3D%3D?line=29'>30</a>\u001b[0m text \u001b[39m=\u001b[39m \u001b[39mopen\u001b[39;49m(\u001b[39m\"\u001b[39;49m\u001b[39mtext.txt\u001b[39;49m\u001b[39m\"\u001b[39;49m, \u001b[39m\"\u001b[39;49m\u001b[39mr\u001b[39;49m\u001b[39m\"\u001b[39;49m)\n\u001b[0;32m     <a href='vscode-notebook-cell:/c%3A/Users/isakh/PycharmProjects/CS1026/cs1026lab6.ipynb#W2sZmlsZQ%3D%3D?line=30'>31</a>\u001b[0m myfile \u001b[39m=\u001b[39m \u001b[39mopen\u001b[39m(\u001b[39m\"\u001b[39m\u001b[39mmyfile.txt\u001b[39m\u001b[39m\"\u001b[39m, \u001b[39m\"\u001b[39m\u001b[39mw\u001b[39m\u001b[39m\"\u001b[39m)  \n\u001b[0;32m     <a href='vscode-notebook-cell:/c%3A/Users/isakh/PycharmProjects/CS1026/cs1026lab6.ipynb#W2sZmlsZQ%3D%3D?line=31'>32</a>\u001b[0m line \u001b[39m=\u001b[39m text\u001b[39m.\u001b[39mread()  \n",
      "File \u001b[1;32m~\\AppData\\Local\\Packages\\PythonSoftwareFoundation.Python.3.10_qbz5n2kfra8p0\\LocalCache\\local-packages\\Python310\\site-packages\\IPython\\core\\interactiveshell.py:286\u001b[0m, in \u001b[0;36m_modified_open\u001b[1;34m(file, *args, **kwargs)\u001b[0m\n\u001b[0;32m    279\u001b[0m \u001b[39mif\u001b[39;00m file \u001b[39min\u001b[39;00m {\u001b[39m0\u001b[39m, \u001b[39m1\u001b[39m, \u001b[39m2\u001b[39m}:\n\u001b[0;32m    280\u001b[0m     \u001b[39mraise\u001b[39;00m \u001b[39mValueError\u001b[39;00m(\n\u001b[0;32m    281\u001b[0m         \u001b[39mf\u001b[39m\u001b[39m\"\u001b[39m\u001b[39mIPython won\u001b[39m\u001b[39m'\u001b[39m\u001b[39mt let you open fd=\u001b[39m\u001b[39m{\u001b[39;00mfile\u001b[39m}\u001b[39;00m\u001b[39m by default \u001b[39m\u001b[39m\"\u001b[39m\n\u001b[0;32m    282\u001b[0m         \u001b[39m\"\u001b[39m\u001b[39mas it is likely to crash IPython. If you know what you are doing, \u001b[39m\u001b[39m\"\u001b[39m\n\u001b[0;32m    283\u001b[0m         \u001b[39m\"\u001b[39m\u001b[39myou can use builtins\u001b[39m\u001b[39m'\u001b[39m\u001b[39m open.\u001b[39m\u001b[39m\"\u001b[39m\n\u001b[0;32m    284\u001b[0m     )\n\u001b[1;32m--> 286\u001b[0m \u001b[39mreturn\u001b[39;00m io_open(file, \u001b[39m*\u001b[39margs, \u001b[39m*\u001b[39m\u001b[39m*\u001b[39mkwargs)\n",
      "\u001b[1;31mFileNotFoundError\u001b[0m: [Errno 2] No such file or directory: 'text.txt'"
     ]
    }
   ],
   "source": [
    "f = open(\"myfile.txt\",\"r\")\n",
    "positive = []\n",
    "neutral = []\n",
    "negative = []\n",
    "for line in f:\n",
    "    entries = line.split(\",\")\n",
    "    entries[1] = int(entries[1].rstrip(\"\\n\"))\n",
    "    if entries[1] == 20:\n",
    "        positive.append(entries[0])\n",
    "    elif entries[1] == 0:\n",
    "        neutral.append(entries[0])\n",
    "    else:\n",
    "        negative.append(entries[0])\n",
    "tweet = \"I really am very happy for you I love the wather I am also sad and have some regrets aboud being so tired\"\n",
    "tweetWords = tweet.split()\n",
    "sentiment = 0 \n",
    "for word in tweetWords:\n",
    "    if word in positive:\n",
    "        sentiment += 20\n",
    "    elif word in negative:\n",
    "        sentiment -= 10\n",
    "        \n",
    "print(\"The positive keywords are {}\".format(positive))\n",
    "print(\"The neutral keywords are {}\".format(neutral))\n",
    "print(\"The negative keywords are {}\".format(negative))\n",
    "print(\"The sentiment of the tweet is {}\".format(sentiment))\n",
    "\n",
    "f.close()"
   ]
  },
  {
   "cell_type": "markdown",
   "metadata": {},
   "source": [
    "Activity 2:"
   ]
  },
  {
   "cell_type": "code",
   "execution_count": null,
   "metadata": {},
   "outputs": [],
   "source": [
    "text = open(\"text.txt\", \"r\")\n",
    "myfile = open(\"myfile.txt\", \"w\")  \n",
    "line = text.read()  \n",
    "words = line.split() \n",
    "for word in words:\n",
    "    print(word)\n",
    "    myfile.write(word + \"\\n\")  \n",
    "text.close()\n",
    "myfile.close()"
   ]
  }
 ],
 "metadata": {
  "kernelspec": {
   "display_name": "Python 3",
   "language": "python",
   "name": "python3"
  },
  "language_info": {
   "codemirror_mode": {
    "name": "ipython",
    "version": 3
   },
   "file_extension": ".py",
   "mimetype": "text/x-python",
   "name": "python",
   "nbconvert_exporter": "python",
   "pygments_lexer": "ipython3",
   "version": "3.10.11"
  }
 },
 "nbformat": 4,
 "nbformat_minor": 2
}
