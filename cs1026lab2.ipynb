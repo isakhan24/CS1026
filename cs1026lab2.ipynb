{
 "cells": [
  {
   "cell_type": "markdown",
   "metadata": {},
   "source": [
    "# Lab 2\n",
    "## Practical Exercises\n",
    "Date: September 28th, 2023<br>\n",
    "Name: Isa Khan<br>\n",
    "Prof: Hanan Lutfiyya<br>\n",
    "Section: 002\n"
   ]
  },
  {
   "cell_type": "code",
   "execution_count": 11,
   "metadata": {},
   "outputs": [
    {
     "name": "stdout",
     "output_type": "stream",
     "text": [
      "You may go on this ride\n"
     ]
    }
   ],
   "source": [
    "age = int(input(\"Enter your age: \"))\n",
    "if age >= 9:\n",
    "    height = float(input(\"Enter your height in cm: \"))\n",
    "    if height >= 130:\n",
    "        print(\"You may go on this ride\")\n",
    "    else:\n",
    "        print(\"You are too short for this ride.\")\n",
    "else:\n",
    "    print(\"You are too young to go on this ride.\")\n"
   ]
  },
  {
   "cell_type": "code",
   "execution_count": 12,
   "metadata": {},
   "outputs": [
    {
     "name": "stdout",
     "output_type": "stream",
     "text": [
      "Your downpayment is: $75000.0\n"
     ]
    }
   ],
   "source": [
    "#Exercise 2\n",
    "\n",
    "IDEAL_CREDIT_SCORE = 720\n",
    "\n",
    "userScore = int(input(\"Please enter your credit score: \"))\n",
    "housePrice = int(input(\"Please enter the price of the house: \"))\n",
    "\n",
    "if userScore >= IDEAL_CREDIT_SCORE:\n",
    "    downPayment = 0.1 * housePrice\n",
    "elif userScore < IDEAL_CREDIT_SCORE and userScore > 600:\n",
    "    downPayment = 0.2 * housePrice\n",
    "else:\n",
    "    downPayment = 0.3 * housePrice\n",
    "\n",
    "print(\"Your downpayment is: ${}\".format(downPayment))"
   ]
  }
 ],
 "metadata": {
  "kernelspec": {
   "display_name": "Python 3",
   "language": "python",
   "name": "python3"
  },
  "language_info": {
   "codemirror_mode": {
    "name": "ipython",
    "version": 3
   },
   "file_extension": ".py",
   "mimetype": "text/x-python",
   "name": "python",
   "nbconvert_exporter": "python",
   "pygments_lexer": "ipython3",
   "version": "3.10.11"
  },
  "orig_nbformat": 4
 },
 "nbformat": 4,
 "nbformat_minor": 2
}
