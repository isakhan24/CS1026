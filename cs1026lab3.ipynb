{
 "cells": [
  {
   "cell_type": "markdown",
   "metadata": {},
   "source": [
    "# Lab 3\n",
    "## Practical Exercises\n",
    "Date: October 4th, 2023<br>\n",
    "Name: Isa Khan<br>\n",
    "Prof: Hanan Lutfiyya<br>\n",
    "Section: 002\n"
   ]
  },
  {
   "cell_type": "code",
   "execution_count": 12,
   "metadata": {},
   "outputs": [
    {
     "name": "stdout",
     "output_type": "stream",
     "text": [
      "The avg value is:  5.416666666666667\n",
      "The smallest value is 2\n",
      "The largest value is 32\n",
      "The range of the values is 30\n"
     ]
    }
   ],
   "source": [
    "n = int(input(\"How many numbers do you want to use today? \"))\n",
    "if n > 0:\n",
    "\n",
    "    firstValue = int(input(\"Enter the first number: \"))\n",
    "    largest = firstValue\n",
    "    smallest = firstValue\n",
    "    total = firstValue\n",
    "\n",
    "    counter = 0\n",
    "    while counter < (n-1):\n",
    "        current = int(input(\"Enter the next number: \"))\n",
    "        total = total + current\n",
    "        counter += 1\n",
    "        if current < smallest:\n",
    "            smallest = current\n",
    "        elif current > largest:\n",
    "            largest = current\n",
    "        \n",
    "    print(\"The avg value is: \", total/n)\n",
    "    print(\"The smallest value is {}\".format(smallest))\n",
    "    print(\"The largest value is {}\".format(largest))\n",
    "    print(\"The range of the values is {}\".format(largest - smallest))\n",
    "else:\n",
    "    print(\"You did not want to use any numbers today.\")\n"
   ]
  },
  {
   "cell_type": "code",
   "execution_count": 14,
   "metadata": {},
   "outputs": [
    {
     "name": "stdout",
     "output_type": "stream",
     "text": [
      "50\n",
      "49\n",
      "48\n",
      "47\n",
      "46\n",
      "45\n",
      "44\n",
      "43\n",
      "42\n",
      "41\n",
      "40\n",
      "39\n",
      "38\n",
      "37\n",
      "36\n",
      "35\n",
      "34\n",
      "33\n",
      "32\n",
      "31\n",
      "30\n",
      "29\n",
      "28\n",
      "27\n",
      "26\n",
      "25\n",
      "24\n",
      "23\n",
      "22\n",
      "21\n",
      "Your account has reached $20 : 20\n"
     ]
    }
   ],
   "source": [
    "accountTotal = 50\n",
    "\n",
    "while accountTotal > 20:\n",
    "    print(accountTotal)\n",
    "    accountTotal -= 1\n",
    "\n",
    "print(f\"Your account has reached $20 : {accountTotal}\")"
   ]
  },
  {
   "cell_type": "code",
   "execution_count": 6,
   "metadata": {},
   "outputs": [
    {
     "name": "stdout",
     "output_type": "stream",
     "text": [
      "0\n"
     ]
    }
   ],
   "source": [
    "print(12%6)"
   ]
  }
 ],
 "metadata": {
  "kernelspec": {
   "display_name": "Python 3",
   "language": "python",
   "name": "python3"
  },
  "language_info": {
   "codemirror_mode": {
    "name": "ipython",
    "version": 3
   },
   "file_extension": ".py",
   "mimetype": "text/x-python",
   "name": "python",
   "nbconvert_exporter": "python",
   "pygments_lexer": "ipython3",
   "version": "3.10.11"
  },
  "orig_nbformat": 4
 },
 "nbformat": 4,
 "nbformat_minor": 2
}
