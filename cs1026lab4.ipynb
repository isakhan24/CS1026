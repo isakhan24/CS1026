{
 "cells": [
  {
   "cell_type": "markdown",
   "metadata": {},
   "source": [
    "# Lab 4\n",
    "## Practical Exercises\n",
    "Date: October 10th, 2023<br>\n",
    "Name: Isa Khan<br>\n",
    "Prof: Hanan Lutfiyya<br>\n",
    "Section: 002\n"
   ]
  },
  {
   "cell_type": "markdown",
   "metadata": {},
   "source": [
    "Activity 1:"
   ]
  },
  {
   "cell_type": "code",
   "execution_count": 8,
   "metadata": {},
   "outputs": [
    {
     "name": "stdout",
     "output_type": "stream",
     "text": [
      "6\n"
     ]
    }
   ],
   "source": [
    "def factorial(n):\n",
    "    result = n\n",
    "    for i in range ((n-1)*-1, 0):\n",
    "        result = result * i\n",
    "    if result < 0:\n",
    "        result = result * -1\n",
    "    return result\n",
    "\n",
    "print(factorial(3))"
   ]
  },
  {
   "cell_type": "markdown",
   "metadata": {},
   "source": [
    "Activity 2:"
   ]
  },
  {
   "cell_type": "code",
   "execution_count": 9,
   "metadata": {},
   "outputs": [
    {
     "name": "stdout",
     "output_type": "stream",
     "text": [
      "Hello World\n",
      "Hello World\n",
      "Hello World\n",
      "Hello World\n",
      "Hello World\n",
      "Hello World\n",
      "Hello World\n",
      "Hello World\n"
     ]
    }
   ],
   "source": [
    "def helloWorld():\n",
    "    print(\"Hello World\")\n",
    "\n",
    "def helloWorldNTimes(n):\n",
    "    for i in range(n):\n",
    "        helloWorld()\n",
    "def main():\n",
    "    helloWorldNTimes(2)\n",
    "    helloWorldNTimes(1)\n",
    "    helloWorldNTimes(3)\n",
    "    helloWorldNTimes(2)\n",
    "\n",
    "main()"
   ]
  },
  {
   "cell_type": "markdown",
   "metadata": {},
   "source": [
    "Activity 3:"
   ]
  },
  {
   "cell_type": "code",
   "execution_count": 11,
   "metadata": {},
   "outputs": [
    {
     "name": "stdout",
     "output_type": "stream",
     "text": [
      "2\n",
      "5\n"
     ]
    }
   ],
   "source": [
    "def countVowels(word):\n",
    "    word = word.lower()\n",
    "    numVowels = 0\n",
    "    vowels = ['a', 'e', 'i', 'o', 'u']\n",
    "\n",
    "    for letter in word:\n",
    "        if letter in vowels:\n",
    "            numVowels += 1\n",
    "    return numVowels\n",
    "\n",
    "def main():\n",
    "    print(countVowels(\"Hello\"))\n",
    "    print(countVowels(\"aEiOu\"))\n",
    "\n",
    "main()"
   ]
  }
 ],
 "metadata": {
  "kernelspec": {
   "display_name": "Python 3",
   "language": "python",
   "name": "python3"
  },
  "language_info": {
   "codemirror_mode": {
    "name": "ipython",
    "version": 3
   },
   "file_extension": ".py",
   "mimetype": "text/x-python",
   "name": "python",
   "nbconvert_exporter": "python",
   "pygments_lexer": "ipython3",
   "version": "3.10.11"
  }
 },
 "nbformat": 4,
 "nbformat_minor": 2
}
