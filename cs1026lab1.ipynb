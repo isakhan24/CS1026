{
 "cells": [
  {
   "cell_type": "markdown",
   "metadata": {},
   "source": [
    "# Lab 1 \n",
    "## Practical Exercises\n",
    "Date: September 20th, 2023<br>\n",
    "Name: Isa Khan<br>\n",
    "Prof: Hanan Lutfiyya<br>\n",
    "Section: 002\n"
   ]
  },
  {
   "cell_type": "code",
   "execution_count": 1,
   "metadata": {},
   "outputs": [
    {
     "name": "stdout",
     "output_type": "stream",
     "text": [
      "answer1\n",
      "8\n"
     ]
    }
   ],
   "source": [
    "# Exercise 1:\n",
    "\n",
    "answer1 = 5+3\n",
    "answer2 = 7*4\n",
    "print('answer1')\n",
    "print(answer1)"
   ]
  },
  {
   "cell_type": "code",
   "execution_count": 3,
   "metadata": {},
   "outputs": [
    {
     "name": "stdout",
     "output_type": "stream",
     "text": [
      "7\n",
      "x is 7 and y is 12\n",
      "x is 7 and y is 12\n"
     ]
    }
   ],
   "source": [
    "# Exercise 2\n",
    "x = 7\n",
    "print(x)\n",
    "y = x+5\n",
    "# The following prints using the FORMAT method\n",
    "print(\"x is {} and y is {}\".format(x,y))\n",
    "# The following prints using the INTERPOLATION method\n",
    "print(\"x is %d and y is %d\" % (x,y))"
   ]
  },
  {
   "cell_type": "code",
   "execution_count": 8,
   "metadata": {},
   "outputs": [
    {
     "name": "stdout",
     "output_type": "stream",
     "text": [
      "Shop name is MyShoppe\n",
      "Ring QTY is 4\n",
      "Glasses QTY is 5\n",
      "Inventory total: 9\n"
     ]
    }
   ],
   "source": [
    "# Exercise 3\n",
    "shopName = input(\"Please enter the shop name: \")\n",
    "ringQTY = int(input(\"Please enter the ring QTY: \"))\n",
    "glassesQTY = int(input(\"Please enter the glasses QTY: \"))\n",
    "\n",
    "print(\"Shop name is {}\".format(shopName))\n",
    "print(\"Ring QTY is {}\".format(ringQTY))\n",
    "print(\"Glasses QTY is {}\".format(glassesQTY))\n",
    "\n",
    "print(\"Inventory total: {}\".format(ringQTY + glassesQTY))"
   ]
  }
 ],
 "metadata": {
  "kernelspec": {
   "display_name": "Python 3",
   "language": "python",
   "name": "python3"
  },
  "language_info": {
   "codemirror_mode": {
    "name": "ipython",
    "version": 3
   },
   "file_extension": ".py",
   "mimetype": "text/x-python",
   "name": "python",
   "nbconvert_exporter": "python",
   "pygments_lexer": "ipython3",
   "version": "3.10.11"
  },
  "orig_nbformat": 4
 },
 "nbformat": 4,
 "nbformat_minor": 2
}
