{
 "cells": [
  {
   "cell_type": "markdown",
   "metadata": {},
   "source": [
    "# Week 6: Lists"
   ]
  },
  {
   "cell_type": "markdown",
   "metadata": {},
   "source": [
    "Activity 1:"
   ]
  },
  {
   "cell_type": "code",
   "execution_count": 5,
   "metadata": {},
   "outputs": [
    {
     "name": "stdout",
     "output_type": "stream",
     "text": [
      "32 21\n",
      "12 21\n",
      "54\n"
     ]
    }
   ],
   "source": [
    "numbers = [12, 32, 43, 21, 54]\n",
    "print(numbers[1], numbers[3])\n",
    "print(numbers[0], numbers[3])\n",
    "print(numbers[-1])"
   ]
  },
  {
   "cell_type": "markdown",
   "metadata": {},
   "source": [
    "Activity 2:"
   ]
  },
  {
   "cell_type": "code",
   "execution_count": 7,
   "metadata": {},
   "outputs": [
    {
     "name": "stdout",
     "output_type": "stream",
     "text": [
      "I\n",
      "B\n",
      "T\n",
      "E\n",
      "A\n",
      "M\n"
     ]
    }
   ],
   "source": [
    "names = ['Isa', 'Bob', 'Tom', 'Ethan', 'Ashur', 'Marwan']\n",
    "\n",
    "for n in names:\n",
    "    print(n[0])"
   ]
  },
  {
   "cell_type": "markdown",
   "metadata": {},
   "source": [
    "Activity 3:"
   ]
  },
  {
   "cell_type": "code",
   "execution_count": 8,
   "metadata": {},
   "outputs": [
    {
     "name": "stdout",
     "output_type": "stream",
     "text": [
      "[11, 13, 15, 17, 19, 21, 23, 25, 27, 29, 31, 33, 35, 37, 39, 41, 43, 45, 47, 49]\n"
     ]
    }
   ],
   "source": [
    "odds = []\n",
    "\n",
    "start = 10\n",
    "end = 50\n",
    "\n",
    "for num in range(start, end + 1):\n",
    "    if num % 2 != 0:\n",
    "        odds.append(num)\n",
    "print(odds)"
   ]
  },
  {
   "cell_type": "markdown",
   "metadata": {},
   "source": [
    "Activity 4:"
   ]
  },
  {
   "cell_type": "code",
   "execution_count": 11,
   "metadata": {},
   "outputs": [
    {
     "name": "stdout",
     "output_type": "stream",
     "text": [
      "List of characters: ['H', 'e', 'l', 'l', 'o', ',', ' ', 'W', 'o', 'r', 'l', 'd', '!']\n",
      "Combined String: Hello, World!\n"
     ]
    }
   ],
   "source": [
    "def strToChar(text):\n",
    "    chars = []\n",
    "    for l in text:\n",
    "        chars.append(l)\n",
    "    return chars\n",
    "\n",
    "def charToStr(chars):\n",
    "    string = \"\"\n",
    "    for char in chars:\n",
    "        string += char\n",
    "    return string\n",
    "\n",
    "def main():\n",
    "    word = \"Hello, World!\"\n",
    "    chars = strToChar(word)\n",
    "    string = charToStr(chars)\n",
    "\n",
    "    print(f\"List of characters: {chars}\")\n",
    "    print(f'Combined String: {string}')\n",
    "\n",
    "main()"
   ]
  },
  {
   "cell_type": "markdown",
   "metadata": {},
   "source": [
    "Activity 5:"
   ]
  },
  {
   "cell_type": "code",
   "execution_count": 18,
   "metadata": {},
   "outputs": [
    {
     "name": "stdout",
     "output_type": "stream",
     "text": [
      "1~2~3~4~5\n"
     ]
    }
   ],
   "source": [
    "def seperate (list, delimeter):\n",
    "    string = \"\"\n",
    "    list\n",
    "    for l in list:\n",
    "        l = str(l)\n",
    "        string += l\n",
    "        if l != str(list[-1]):\n",
    "            string += delimeter\n",
    "    return string\n",
    "\n",
    "def main():\n",
    "    my_list = [1, 2, 3, 4, 5]\n",
    "    delimeter = \"~\"\n",
    "    output = seperate(my_list, delimeter=delimeter)\n",
    "    print(output)\n",
    "\n",
    "main()"
   ]
  },
  {
   "cell_type": "markdown",
   "metadata": {},
   "source": [
    "Activity 6:"
   ]
  },
  {
   "cell_type": "code",
   "execution_count": 21,
   "metadata": {},
   "outputs": [
    {
     "name": "stdout",
     "output_type": "stream",
     "text": [
      "Counts of elements from 'small' in 'large': [1, 2, 2, 1, 3]\n"
     ]
    }
   ],
   "source": [
    "def counter (small, large):\n",
    "    counts = []\n",
    "    for num in small:\n",
    "        counter = 0\n",
    "        for n in large:\n",
    "            if num == n:\n",
    "                counter+=1\n",
    "        counts.append(counter)\n",
    "    return counts\n",
    "\n",
    "def main():\n",
    "    small = [1, 2, 2, 3, 4]\n",
    "    large = [1, 2, 2, 3, 4, 4, 4, 5]\n",
    "    output = counter(small, large)\n",
    "    print(f\"Counts of elements from 'small' in 'large': {output}\")\n",
    "\n",
    "main()"
   ]
  },
  {
   "cell_type": "markdown",
   "metadata": {},
   "source": [
    "Activity 7:"
   ]
  },
  {
   "cell_type": "code",
   "execution_count": 29,
   "metadata": {},
   "outputs": [
    {
     "name": "stdout",
     "output_type": "stream",
     "text": [
      "The first value greater than 25 is at index: 2\n",
      "The first value greater than 75 is at index: -1\n"
     ]
    }
   ],
   "source": [
    "def findAfter(lst, num):\n",
    "    \n",
    "    value = -1\n",
    "    for n in lst:\n",
    "        if num < n:\n",
    "            value = lst.index(n)\n",
    "            break\n",
    "    return(value)\n",
    "\n",
    "def main():\n",
    "    lst = [10, 20, 30, 40, 50]\n",
    "    num = 25\n",
    "    output = findAfter(lst, num)\n",
    "    print(f\"The first value greater than {num} is at index: {output}\")\n",
    "    \n",
    "    lst = [10, 21, 30, 40, 50, 67, 4]\n",
    "    num = 75\n",
    "    output = findAfter(lst, num)\n",
    "    print(f\"The first value greater than {num} is at index: {output}\")\n",
    "\n",
    "main()"
   ]
  },
  {
   "cell_type": "markdown",
   "metadata": {},
   "source": [
    "Activity 8:"
   ]
  },
  {
   "cell_type": "code",
   "execution_count": 32,
   "metadata": {},
   "outputs": [
    {
     "name": "stdout",
     "output_type": "stream",
     "text": [
      "[9, 150, 23, 300, 350, 100, 15, 250, 30, 35]\n"
     ]
    }
   ],
   "source": [
    "def swap(lst1, lst2):\n",
    "    combined = []\n",
    "\n",
    "    for num in range (0, len(lst1)):\n",
    "        if lst1[num] % 5 == 0:\n",
    "            combined.append(lst2[num])\n",
    "        else:\n",
    "            combined.append(lst1[num])\n",
    "\n",
    "    for num in range(0, len(lst1)):\n",
    "\n",
    "        if lst1[num] not in combined:\n",
    "            combined.append(lst1[num])\n",
    "        \n",
    "        if lst2[num] not in combined:\n",
    "            combined.append(lst2[num])\n",
    "\n",
    "    return combined\n",
    "\n",
    "\n",
    "def main():\n",
    "    lst1 = [9, 15, 23, 30, 35]\n",
    "    lst2 = [100, 150, 250, 300, 350]\n",
    "    output = swap(lst1, lst2)\n",
    "    print(output)\n",
    "\n",
    "main()"
   ]
  },
  {
   "cell_type": "markdown",
   "metadata": {},
   "source": [
    "Activity 9:"
   ]
  },
  {
   "cell_type": "code",
   "execution_count": 2,
   "metadata": {},
   "outputs": [
    {
     "name": "stdout",
     "output_type": "stream",
     "text": [
      "Collected numbers: ['10', '20', '30']\n"
     ]
    }
   ],
   "source": [
    "def read():\n",
    "    run = True\n",
    "    lst = []\n",
    "    while run:\n",
    "        user_input = input(\"Enter a number (or anything else to stop): \")\n",
    "        if user_input.isdigit():\n",
    "            lst.append(user_input)\n",
    "        else:\n",
    "            run = False\n",
    "    return lst\n",
    "\n",
    "def main():\n",
    "    output = read()\n",
    "    print(f\"Collected numbers: {output}\")\n",
    "\n",
    "main()"
   ]
  },
  {
   "cell_type": "markdown",
   "metadata": {},
   "source": [
    "Activity 10:"
   ]
  },
  {
   "cell_type": "code",
   "execution_count": 8,
   "metadata": {},
   "outputs": [
    {
     "name": "stdout",
     "output_type": "stream",
     "text": [
      "Positions found: [0, 2, 3]\n",
      "Positions found: [0, 5, 3]\n"
     ]
    }
   ],
   "source": [
    "def collect(names, titles):\n",
    "    pos = []\n",
    "    for num in range (0, len(names)):\n",
    "        names[num] = names[num].lower()\n",
    "\n",
    "\n",
    "    for t in titles:\n",
    "        for n in names:\n",
    "            if t in n:\n",
    "                pos.append(names.index(n))\n",
    "    return pos\n",
    "\n",
    "\n",
    "def main():\n",
    "    names = [\"Dr. Smith\", \"Eng. Johnson\", \"Mrs. Davis\", \"Prof. Williams\", \"Miss Clark\"]\n",
    "    titles = [\"dr\", \"mr\", \"prof\"]\n",
    "    output = collect(names, titles)\n",
    "    print(f\"Positions found: {output}\")\n",
    "\n",
    "\n",
    "\n",
    "    names = [\"Dr. Smith\", \"Eng. Johnson\", \"Mrs. Davis\", \"Prof. Williams\", \"prof Clark\", \"Drake\"]\n",
    "    titles = [\"dr\", \"mr.\", \"prof.\"]\n",
    "    output = collect(names, titles)\n",
    "    print(f\"Positions found: {output}\")\n",
    "\n",
    "main()"
   ]
  },
  {
   "cell_type": "markdown",
   "metadata": {},
   "source": [
    "Activity 11:"
   ]
  },
  {
   "cell_type": "code",
   "execution_count": 20,
   "metadata": {},
   "outputs": [
    {
     "name": "stdout",
     "output_type": "stream",
     "text": [
      "\n",
      "Model: Rav4\n",
      "Capacity; 5\n",
      "Passanger's ages: \n",
      "- 34 yo\n",
      "- 2 yo\n",
      "- 2 yo\n",
      "- 3 yo\n",
      "- 4 yo\n",
      "\n",
      "Model: Armada\n",
      "Capacity; 7\n",
      "Passanger's ages: \n",
      "- 21 yo\n",
      "- 25 yo\n",
      "- 12 yo\n",
      "- 31 yo\n",
      "- 14 yo\n",
      "- 2 yo\n",
      "\n",
      "Model: Charger\n",
      "Capacity; 5\n",
      "Passanger's ages: \n",
      "- 29 yo\n",
      "- 5 yo\n",
      "- 15 yo\n",
      "- 1 yo\n",
      "- 4 yo\n",
      "- 2 yo\n",
      "\n",
      "Model: Infinity\n",
      "Capacity; 5\n",
      "Passanger's ages: \n",
      "- 65 yo\n",
      "- 4 yo\n"
     ]
    }
   ],
   "source": [
    "def display(cars):\n",
    "    for car in cars:\n",
    "        print(f\"\\nModel: {car[0]}\")\n",
    "        print(f\"Capacity; {car[1]}\")\n",
    "        print(\"Passanger's ages: \")\n",
    "        for p in car[2]:\n",
    "            print(f\"- {p} yo\")\n",
    "\n",
    "def main():\n",
    "    cars=[\n",
    "    [\"Rav4\", 5,[34,2,2,3,4]],\n",
    "    [\"Armada\", 7,[21,25,12,31,14,2]],\n",
    "    [\"Charger\", 5,[29,5,15,1,4,2]],\n",
    "    [\"Infinity\", 5,[65,4]],\n",
    "    ]\n",
    "    display(cars)\n",
    "\n",
    "main()"
   ]
  }
 ],
 "metadata": {
  "kernelspec": {
   "display_name": "Python 3",
   "language": "python",
   "name": "python3"
  },
  "language_info": {
   "codemirror_mode": {
    "name": "ipython",
    "version": 3
   },
   "file_extension": ".py",
   "mimetype": "text/x-python",
   "name": "python",
   "nbconvert_exporter": "python",
   "pygments_lexer": "ipython3",
   "version": "3.10.11"
  }
 },
 "nbformat": 4,
 "nbformat_minor": 2
}
