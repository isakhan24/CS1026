{
 "cells": [
  {
   "cell_type": "markdown",
   "metadata": {},
   "source": [
    "## Week 3: Decisions & Rational"
   ]
  },
  {
   "cell_type": "markdown",
   "metadata": {},
   "source": [
    "Using if statement:"
   ]
  },
  {
   "cell_type": "markdown",
   "metadata": {},
   "source": [
    "Activity 1:"
   ]
  },
  {
   "cell_type": "code",
   "execution_count": 2,
   "metadata": {},
   "outputs": [
    {
     "name": "stdout",
     "output_type": "stream",
     "text": [
      "Sorry, you cannot drive yet.\n"
     ]
    }
   ],
   "source": [
    "age = int(input(\"Please enter your age: \"))\n",
    "\n",
    "if age >= 16:\n",
    "    print(\"You can drive!\")\n",
    "else:\n",
    "    print(\"Sorry, you cannot drive yet.\")"
   ]
  },
  {
   "cell_type": "markdown",
   "metadata": {},
   "source": [
    "Activity 2:"
   ]
  },
  {
   "cell_type": "code",
   "execution_count": 4,
   "metadata": {},
   "outputs": [
    {
     "name": "stdout",
     "output_type": "stream",
     "text": [
      "Insufficient funds. Withdrawl not possible.\n"
     ]
    }
   ],
   "source": [
    "account = float(input(\"Please enter account balance: \"))\n",
    "withdraw = float(input(\"Enter the amount you want to withdraw:\"))\n",
    "\n",
    "if account >= withdraw:\n",
    "    account = account - withdraw\n",
    "    print(f\"Your withdrawl is successful! Your new balance is ${account}\")\n",
    "else:\n",
    "    print(\"Insufficient funds. Withdrawl not possible.\")"
   ]
  },
  {
   "cell_type": "markdown",
   "metadata": {},
   "source": [
    "Activity 3:"
   ]
  },
  {
   "cell_type": "code",
   "execution_count": 10,
   "metadata": {},
   "outputs": [
    {
     "name": "stdout",
     "output_type": "stream",
     "text": [
      "Please enter a full name with at least two parts.\n"
     ]
    }
   ],
   "source": [
    "name = input(\"Please enter your full name:\")\n",
    "\n",
    "space = False\n",
    "for letters in range(len(name)):\n",
    "    if name[letters] == \" \":\n",
    "        space = True\n",
    "\n",
    "if space == True:\n",
    "    s = name.index(\" \")\n",
    "    split = name[:s]\n",
    "    print(f\"First Letter: {split[0]}, Last Letter: {split[-1]}\")\n",
    "else:\n",
    "    print(\"Please enter a full name with at least two parts.\")\n",
    "\n"
   ]
  },
  {
   "cell_type": "markdown",
   "metadata": {},
   "source": [
    "Activity 4:"
   ]
  },
  {
   "cell_type": "code",
   "execution_count": 14,
   "metadata": {},
   "outputs": [
    {
     "name": "stdout",
     "output_type": "stream",
     "text": [
      "Grade in ascending order: [68.8, 75.5]\n"
     ]
    }
   ],
   "source": [
    "first_grade = float(input(\"Enter the first grade: \"))\n",
    "second_grade = float(input(\"Enter the second grade: \"))\n",
    "\n",
    "order = []\n",
    "\n",
    "if first_grade <= second_grade:\n",
    "    order.append(first_grade)\n",
    "    order.append(second_grade)\n",
    "else:\n",
    "    order.append(second_grade)\n",
    "    order.append(first_grade)\n",
    "\n",
    "print(f\"Grade in ascending order: {order}\") "
   ]
  },
  {
   "cell_type": "markdown",
   "metadata": {},
   "source": [
    "Activity 5:"
   ]
  },
  {
   "cell_type": "code",
   "execution_count": 17,
   "metadata": {},
   "outputs": [
    {
     "name": "stdout",
     "output_type": "stream",
     "text": [
      "COFFEE will be served\n"
     ]
    }
   ],
   "source": [
    "drink = input(\"What would you like to order? \")\n",
    "drink = drink.upper()\n",
    "if drink.lower() == \"coffee\":\n",
    "    age = int(input(\"Please enter your age: \"))\n",
    "    if age >= 10:\n",
    "        print(f\"{drink} will be served\")\n",
    "    else: \n",
    "        print(\"Sorry, you are too young to order coffee.\")\n",
    "else:\n",
    "    print(f\"{drink} will be served\")"
   ]
  },
  {
   "cell_type": "markdown",
   "metadata": {},
   "source": [
    "Activity 6:"
   ]
  },
  {
   "cell_type": "code",
   "execution_count": 24,
   "metadata": {},
   "outputs": [
    {
     "name": "stdout",
     "output_type": "stream",
     "text": [
      "You need to be 18 or older and create an account to access all features\n"
     ]
    }
   ],
   "source": [
    "age = int(input(\"Please enter your age: \"))\n",
    "str = input(\"Do you have an account? (yes/no): \").lower()\n",
    "account = False\n",
    "\n",
    "if str == \"yes\":\n",
    "    account = True\n",
    "\n",
    "if age >= 18:\n",
    "    if account == True:\n",
    "        print(\"You have full access to all features\")\n",
    "    else:\n",
    "        print(\"You can create an account to access all features\")\n",
    "else:\n",
    "    if account == True:\n",
    "        print(\"You have limited access to certain features\")\n",
    "    else:\n",
    "        print(\"You need to be 18 or older and create an account to access all features\")\n"
   ]
  },
  {
   "cell_type": "markdown",
   "metadata": {},
   "source": [
    "Activity 7:"
   ]
  },
  {
   "cell_type": "code",
   "execution_count": 31,
   "metadata": {},
   "outputs": [
    {
     "name": "stdout",
     "output_type": "stream",
     "text": [
      "Excellent! You've got an 'A'\n"
     ]
    }
   ],
   "source": [
    "letter = input(\"Enter your grade: \").upper()\n",
    "\n",
    "if letter == \"A\":\n",
    "    print(\"Excellent! You've got an 'A'\")\n",
    "elif letter == \"B\":\n",
    "    print(\"Good job! You've got a 'B'\")\n",
    "elif letter == \"C\":\n",
    "    print(\"Not bad! You've got a 'C'\")\n",
    "elif letter == \"D\":\n",
    "    print(\"You passed. You've got a 'D'\")\n",
    "elif letter == \"F\":\n",
    "    print(\"Unfortunately, you failed. You've got an 'F'\")\n",
    "else:\n",
    "    print(\"Invalid input. Please enter a valid grade (A, B, C, D, or F)\")\n"
   ]
  },
  {
   "cell_type": "markdown",
   "metadata": {},
   "source": [
    "Activity 8:"
   ]
  },
  {
   "cell_type": "code",
   "execution_count": 34,
   "metadata": {},
   "outputs": [
    {
     "name": "stdout",
     "output_type": "stream",
     "text": [
      "At 25.0°C, the substance is in the liquid state.\n"
     ]
    }
   ],
   "source": [
    "temp = float(input(\"Please enter the temperature in Celcius: \"))\n",
    "state = \"\"\n",
    "\n",
    "if temp <= 0:\n",
    "    state = \"solid\"\n",
    "elif temp > 0 and temp <= 100:\n",
    "    state = \"liquid\"\n",
    "else:\n",
    "    state = \"gas\"\n",
    "\n",
    "print(f\"At {temp}°C, the substance is in the {state} state.\")"
   ]
  },
  {
   "cell_type": "markdown",
   "metadata": {},
   "source": [
    "Activity 9:"
   ]
  },
  {
   "cell_type": "code",
   "execution_count": 50,
   "metadata": {},
   "outputs": [
    {
     "name": "stdout",
     "output_type": "stream",
     "text": [
      "2269989999 is a valid number\n"
     ]
    }
   ],
   "source": [
    "number = input(\"Enter a phone number: \")\n",
    "length = False\n",
    "first_three = []\n",
    "area_code = False\n",
    "ints = False\n",
    "\n",
    "if len(number) == 10:\n",
    "    length = True\n",
    "\n",
    "for num in range(0,3):\n",
    "    first_three.append(number[num])\n",
    "\n",
    "if first_three[0] == \"2\" and first_three[1] == \"2\" and first_three[2] == \"6\":\n",
    "    area_code = True\n",
    "\n",
    "if number.isdigit():\n",
    "    ints = True\n",
    "\n",
    "if ints == True:\n",
    "    if length == True and area_code == True:\n",
    "        print(f\"{number} is a valid number\")\n",
    "    elif length == False:\n",
    "        print(\"Invalid length\")\n",
    "    elif area_code == False:\n",
    "        print(\"Does not start with 226\")\n",
    "else:\n",
    "    print(\"Not a number!\")\n",
    "\n"
   ]
  }
 ],
 "metadata": {
  "kernelspec": {
   "display_name": "Python 3",
   "language": "python",
   "name": "python3"
  },
  "language_info": {
   "codemirror_mode": {
    "name": "ipython",
    "version": 3
   },
   "file_extension": ".py",
   "mimetype": "text/x-python",
   "name": "python",
   "nbconvert_exporter": "python",
   "pygments_lexer": "ipython3",
   "version": "3.10.11"
  },
  "orig_nbformat": 4
 },
 "nbformat": 4,
 "nbformat_minor": 2
}
