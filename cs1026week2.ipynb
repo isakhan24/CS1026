{
 "cells": [
  {
   "cell_type": "markdown",
   "source": [
    "# Welcome to CS1026\n",
    "## Week 2: Intro to Numbers and Strings"
   ],
   "metadata": {
    "collapsed": false
   },
   "id": "8b136448b753c93f"
  },
  {
   "cell_type": "code",
   "execution_count": 2,
   "outputs": [
    {
     "name": "stdout",
     "output_type": "stream",
     "text": [
      "Hello World\n"
     ]
    }
   ],
   "source": [
    "print(\"Hello World\")"
   ],
   "metadata": {
    "collapsed": false,
    "ExecuteTime": {
     "end_time": "2023-09-11T18:04:57.779974100Z",
     "start_time": "2023-09-11T18:04:57.653669500Z"
    }
   },
   "id": "3e30b4774903f01"
  },
  {
   "cell_type": "markdown",
   "source": [
    "## Prompting for user input:"
   ],
   "metadata": {
    "collapsed": false
   },
   "id": "22399f50f54357ee"
  },
  {
   "cell_type": "code",
   "execution_count": 3,
   "outputs": [
    {
     "name": "stdout",
     "output_type": "stream",
     "text": [
      "Hello Isa Khan!\n",
      "I also like pizza\n"
     ]
    }
   ],
   "source": [
    "firstName = input(\"What's your first name? \")\n",
    "lastName = input(\"What's your last name? \")\n",
    "favFood = input(\"What's your fav food? \")\n",
    "\n",
    "print(f\"Hello {firstName} {lastName}!\\nI also like {favFood}\")"
   ],
   "metadata": {
    "collapsed": false,
    "ExecuteTime": {
     "end_time": "2023-09-11T18:05:07.737623900Z",
     "start_time": "2023-09-11T18:04:59.154315Z"
    }
   },
   "id": "af96c91882115a6e"
  },
  {
   "cell_type": "markdown",
   "source": [
    "## Using String Index to grab initials "
   ],
   "metadata": {
    "collapsed": false
   },
   "id": "235c2f3cc8a70a2c"
  },
  {
   "cell_type": "code",
   "execution_count": 4,
   "outputs": [
    {
     "name": "stdout",
     "output_type": "stream",
     "text": [
      "Your initials are IK\n"
     ]
    }
   ],
   "source": [
    "print(f\"Your initials are {firstName[0].upper()}{lastName[0].upper()}\")"
   ],
   "metadata": {
    "collapsed": false,
    "ExecuteTime": {
     "end_time": "2023-09-11T18:07:32.858096300Z",
     "start_time": "2023-09-11T18:07:32.834322800Z"
    }
   },
   "id": "2789690a41d97ad9"
  },
  {
   "cell_type": "markdown",
   "source": [
    "## Area Calculator\n",
    "Using user input to calculate the area of a rectangle"
   ],
   "metadata": {
    "collapsed": false
   },
   "id": "75d203c80d64b0eb"
  },
  {
   "cell_type": "code",
   "execution_count": 7,
   "outputs": [
    {
     "name": "stdout",
     "output_type": "stream",
     "text": [
      "The area of the rectangle is 50\n"
     ]
    }
   ],
   "source": [
    "width = int(input(\"Enter the width of the rectangle: \"))\n",
    "height = int(input(\"Enter the height of the rectangle: \"))\n",
    "area = width * height\n",
    "print(f\"The area of the rectangle is {area}\")"
   ],
   "metadata": {
    "collapsed": false,
    "ExecuteTime": {
     "end_time": "2023-09-11T18:12:43.224083700Z",
     "start_time": "2023-09-11T18:12:41.292806500Z"
    }
   },
   "id": "11f0ad5811847805"
  },
  {
   "cell_type": "markdown",
   "source": [
    "Area Calculator of a triangle"
   ],
   "metadata": {
    "collapsed": false
   },
   "id": "74bc145a2657efb2"
  },
  {
   "cell_type": "code",
   "execution_count": 9,
   "outputs": [
    {
     "name": "stdout",
     "output_type": "stream",
     "text": [
      "The area of the triangle is 350.3326\n"
     ]
    }
   ],
   "source": [
    "base = float(input(\"Enter the base of the triangle: \"))\n",
    "height = float(input(\"Enter the height of the triangle\"))\n",
    "area = base * height / 2\n",
    "print(f\"The area of the triangle is {area}\")"
   ],
   "metadata": {
    "collapsed": false,
    "ExecuteTime": {
     "end_time": "2023-09-11T18:14:36.144029300Z",
     "start_time": "2023-09-11T18:14:29.164237Z"
    }
   },
   "id": "75d15f7f7d1ef89"
  },
  {
   "cell_type": "markdown",
   "source": [
    "Area of a circle"
   ],
   "metadata": {
    "collapsed": false
   },
   "id": "4a9f74659f230f8a"
  },
  {
   "cell_type": "code",
   "execution_count": 11,
   "outputs": [
    {
     "name": "stdout",
     "output_type": "stream",
     "text": [
      "The area of the circle is 561.58\n"
     ]
    }
   ],
   "source": [
    "radius = float(input(\"Enter the radius of the circle: \"))\n",
    "pi = 3.14159\n",
    "area = round(pi * radius ** 2, 2)\n",
    "print(f\"The area of the circle is {area}\")"
   ],
   "metadata": {
    "collapsed": false,
    "ExecuteTime": {
     "end_time": "2023-09-11T18:17:02.862527500Z",
     "start_time": "2023-09-11T18:17:00.221716800Z"
    }
   },
   "id": "2a5c6e000d14d74e"
  },
  {
   "cell_type": "markdown",
   "source": [
    "# Happiness Improver Activity\n",
    "Using replace() method for strings"
   ],
   "metadata": {
    "collapsed": false
   },
   "id": "874d04260edefcaa"
  },
  {
   "cell_type": "code",
   "execution_count": 14,
   "outputs": [
    {
     "name": "stdout",
     "output_type": "stream",
     "text": [
      "I am so happy I passed the CS1026 exam, I could sing. I am good at this!\n"
     ]
    }
   ],
   "source": [
    "string = input(\"Input your text: \").lower()\n",
    "\n",
    "string = string.replace(\"sad\", \"happy\")\n",
    "string = string.replace(\"bad\", \"good\")\n",
    "string = string.replace(\"cry\", \"sing\")\n",
    "string = string.replace(\"failed\", \"passed\")\n",
    "\n",
    "print(string)"
   ],
   "metadata": {
    "collapsed": false,
    "ExecuteTime": {
     "end_time": "2023-09-11T18:21:21.111116700Z",
     "start_time": "2023-09-11T18:21:01.084223500Z"
    }
   },
   "id": "8b9f7c4d3b9f1cfa"
  },
  {
   "cell_type": "markdown",
   "source": [
    "## TextBox Activity"
   ],
   "metadata": {
    "collapsed": false
   },
   "id": "4de5fe0ed98428a5"
  },
  {
   "cell_type": "code",
   "execution_count": 28,
   "outputs": [
    {
     "name": "stdout",
     "output_type": "stream",
     "text": [
      "*****************\n",
      "*               *\n",
      "* Hello, World! *\n",
      "*               *\n",
      "*****************\n"
     ]
    }
   ],
   "source": [
    "text = input(\"Enter your text here\")\n",
    "length = len(text) + 4\n",
    "spaces = length - 4\n",
    "print(\"*\"*length)\n",
    "print(\"*\",\" \"*spaces,\"*\")\n",
    "print(\"*\", text, \"*\")\n",
    "print(\"*\",\" \"*spaces,\"*\")\n",
    "print(\"*\"*length)"
   ],
   "metadata": {
    "collapsed": false,
    "ExecuteTime": {
     "end_time": "2023-09-11T18:28:52.634429200Z",
     "start_time": "2023-09-11T18:28:47.932476900Z"
    }
   },
   "id": "2c9cc3002a9682bf"
  },
  {
   "cell_type": "markdown",
   "source": [
    "## Comments\n",
    "Don't forget to use # to comment your code"
   ],
   "metadata": {
    "collapsed": false
   },
   "id": "27c47a5e56096c3c"
  },
  {
   "cell_type": "code",
   "execution_count": 29,
   "outputs": [],
   "source": [
    "#Owner of this code: Isa Khan"
   ],
   "metadata": {
    "collapsed": false,
    "ExecuteTime": {
     "end_time": "2023-09-11T18:31:39.642533200Z",
     "start_time": "2023-09-11T18:31:39.602777800Z"
    }
   },
   "id": "c09405178389d870"
  },
  {
   "cell_type": "markdown",
   "source": [
    "## Debugging Code"
   ],
   "metadata": {
    "collapsed": false
   },
   "id": "b1330b243364fa93"
  },
  {
   "cell_type": "markdown",
   "source": [
    "Starting Code:"
   ],
   "metadata": {
    "collapsed": false
   },
   "id": "f53c4b6a8b6a3351"
  },
  {
   "cell_type": "code",
   "execution_count": null,
   "outputs": [],
   "source": [
    "#name = input(What is your name: )\n",
    "#print(\"Hello %s, nice to meat you.' % name)\n",
    "#age = input('How old are you %d?' % name)\n",
    "#days = age * 365\n",
    "#months = age + 12\n",
    "#print(\"That is \" + days + \" days old or \" + months + \" months!\")\n",
    "#print(\"Your name in all caps is \" + upper(name))\n",
    "#print('Your name is %d letters long!' % len(name)\n",
    "#Print(\"Good bye \" + name + \"!\\nI hope you found all the errors.\")\n"
   ],
   "metadata": {
    "collapsed": false
   },
   "id": "c6cc7acecc597f3c"
  },
  {
   "cell_type": "markdown",
   "source": [
    "Debugged code:"
   ],
   "metadata": {
    "collapsed": false
   },
   "id": "7e952d0110a11d30"
  },
  {
   "cell_type": "code",
   "execution_count": 33,
   "outputs": [
    {
     "name": "stdout",
     "output_type": "stream",
     "text": [
      "Hello Isa, nice to meet you.\n",
      "That is 6570 days old or 30 months!\n",
      "Your name in all caps is ISA\n",
      "Your name is 3 letters long!\n",
      "Good bye Isa!\n",
      "I hope you found all the errors.\n"
     ]
    }
   ],
   "source": [
    "name = input(\"What is your name: \")\n",
    "print (\"Hello %s, nice to meet you.\" % name)\n",
    "age = input('How old are you %s?' % name)\n",
    "days = int(age) * 365\n",
    "months = int(age) + 12\n",
    "print(f\"That is {days} days old or {months} months!\")\n",
    "print(\"Your name in all caps is \" + name.upper())\n",
    "print('Your name is %d letters long!' % len(name))\n",
    "print(\"Good bye \" + name + \"!\\nI hope you found all the errors.\")\n"
   ],
   "metadata": {
    "collapsed": false,
    "ExecuteTime": {
     "end_time": "2023-09-11T18:39:04.414145700Z",
     "start_time": "2023-09-11T18:39:01.882589300Z"
    }
   },
   "id": "2d848e18695fce57"
  }
 ],
 "metadata": {
  "kernelspec": {
   "display_name": "Python 3",
   "language": "python",
   "name": "python3"
  },
  "language_info": {
   "codemirror_mode": {
    "name": "ipython",
    "version": 2
   },
   "file_extension": ".py",
   "mimetype": "text/x-python",
   "name": "python",
   "nbconvert_exporter": "python",
   "pygments_lexer": "ipython2",
   "version": "2.7.6"
  }
 },
 "nbformat": 4,
 "nbformat_minor": 5
}
