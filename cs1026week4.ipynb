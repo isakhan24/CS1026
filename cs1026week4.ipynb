{
 "cells": [
  {
   "cell_type": "markdown",
   "metadata": {},
   "source": [
    "# Week 4: Loops"
   ]
  },
  {
   "cell_type": "markdown",
   "metadata": {},
   "source": [
    "Activity 1:"
   ]
  },
  {
   "cell_type": "code",
   "execution_count": 5,
   "metadata": {},
   "outputs": [
    {
     "name": "stdout",
     "output_type": "stream",
     "text": [
      "You can't drive!\n",
      "You can't drive!\n",
      "You can drive!\n",
      "You can drive!\n",
      "You can't drive!\n",
      "Bye bye\n"
     ]
    }
   ],
   "source": [
    "run = True\n",
    "while run:\n",
    "    age = int(input(\"Please enter your age: \"))\n",
    "    if age == -1:\n",
    "        print(\"Bye bye\")\n",
    "        run = False\n",
    "    else:\n",
    "        if age >= 18:\n",
    "            print(\"You can drive!\")\n",
    "        else:\n",
    "             print(\"You can't drive!\")"
   ]
  },
  {
   "cell_type": "markdown",
   "metadata": {},
   "source": [
    "Activity 2:"
   ]
  },
  {
   "cell_type": "code",
   "execution_count": 9,
   "metadata": {},
   "outputs": [
    {
     "name": "stdout",
     "output_type": "stream",
     "text": [
      "Sum from 0 to 5 is 15\n"
     ]
    }
   ],
   "source": [
    "number = int(input(\"Please enter a number that is 0 or higher: \"))\n",
    "\n",
    "counter = 0\n",
    "sum = 0\n",
    "\n",
    "while counter <= number:\n",
    "    sum+=counter\n",
    "    counter+=1\n",
    "\n",
    "print(f\"Sum from 0 to {number} is {sum}\")"
   ]
  },
  {
   "cell_type": "markdown",
   "metadata": {},
   "source": [
    "Activity 3:"
   ]
  },
  {
   "cell_type": "code",
   "execution_count": 1,
   "metadata": {},
   "outputs": [
    {
     "name": "stdout",
     "output_type": "stream",
     "text": [
      "Count of a is 2\n",
      "Count of e is 2\n",
      "Count of i is 2\n",
      "Count of o is 1\n",
      "Count of u is 0\n"
     ]
    }
   ],
   "source": [
    "word = input(\"Please enter a word: \")\n",
    "\n",
    "vowels = ['a', 'e', 'i', 'o', 'u']\n",
    "totals = []\n",
    "for letter in vowels:\n",
    "    counter = 0\n",
    "    for num in range(0, len(word)):\n",
    "        if word[num] == letter:\n",
    "            counter += 1\n",
    "    print(f\"Count of {letter} is {counter}\")\n",
    "\n",
    "        "
   ]
  },
  {
   "cell_type": "markdown",
   "metadata": {},
   "source": [
    "Activity 4:"
   ]
  },
  {
   "cell_type": "code",
   "execution_count": 3,
   "metadata": {},
   "outputs": [
    {
     "name": "stdout",
     "output_type": "stream",
     "text": [
      "6\n",
      "12\n",
      "18\n",
      "24\n",
      "30\n"
     ]
    }
   ],
   "source": [
    "start = int(input(\"Enter the starting number of the sequence: \"))\n",
    "end = int(input(\"Enter the ending number of the sequence: \"))\n",
    "\n",
    "for num in range(start, end+1):\n",
    "    if num % 2 == 0 and num % 3 == 0:\n",
    "        print(num)"
   ]
  },
  {
   "cell_type": "markdown",
   "metadata": {},
   "source": [
    "Activity 5:"
   ]
  },
  {
   "cell_type": "code",
   "execution_count": 12,
   "metadata": {},
   "outputs": [
    {
     "name": "stdout",
     "output_type": "stream",
     "text": [
      "1 \n",
      "1 2 \n",
      "1 2 3 \n",
      "1 2 3 4 \n",
      "1 2 3 4 5 \n",
      "\n"
     ]
    }
   ],
   "source": [
    "n = int(input(\"Please enter the value of N\"))\n",
    "\n",
    "string = \"\"\n",
    "for num in range(1,n+1):\n",
    "    for number in range (1, num+1):\n",
    "        string += f\"{number}\"\n",
    "        string += \" \"\n",
    "    string += \"\\n\"\n",
    "print(string)\n",
    "     \n"
   ]
  },
  {
   "cell_type": "markdown",
   "metadata": {},
   "source": [
    "Activity 6:"
   ]
  },
  {
   "cell_type": "code",
   "execution_count": 15,
   "metadata": {},
   "outputs": [
    {
     "name": "stdout",
     "output_type": "stream",
     "text": [
      "1\n",
      "3\n",
      "5\n",
      "7\n",
      "9\n",
      "11\n",
      "Goodbye\n"
     ]
    }
   ],
   "source": [
    "run = True\n",
    "\n",
    "while run:\n",
    "    number = int(input(\"Please enter a number greater than 1\"))\n",
    "    if number < 1:\n",
    "        print(\"Goodbye\")\n",
    "        run = False\n",
    "    else:\n",
    "        for num in range (0, number+1):\n",
    "            if num % 2 != 0:\n",
    "                print(num)"
   ]
  },
  {
   "cell_type": "markdown",
   "metadata": {},
   "source": [
    "Activity 7:"
   ]
  },
  {
   "cell_type": "code",
   "execution_count": 22,
   "metadata": {},
   "outputs": [
    {
     "name": "stdout",
     "output_type": "stream",
     "text": [
      "Password: Apple!Mac@123 is valid\n"
     ]
    }
   ],
   "source": [
    "password = input(\"Enter a password: \")\n",
    "special_character = False\n",
    "digit = False\n",
    "upper = False\n",
    "lower = False\n",
    "length = False\n",
    "\n",
    "sc = ['!','@', '#', '$', '%', '^', '&', '*', '_', '-', '(', ')']\n",
    "\n",
    "if len(password) >= 10:\n",
    "    length = True\n",
    "\n",
    "for char in range (0, len(password)):\n",
    "\n",
    "    if password[char].isupper():\n",
    "       upper = True\n",
    "    if password[char].islower(): \n",
    "        lower = True\n",
    "    if password[char].isdigit():\n",
    "        digit = True\n",
    "    if password[char] in sc:\n",
    "        special_character = True\n",
    "\n",
    "if special_character and digit and upper and lower and length:\n",
    "    print(f\"Password: {password} is valid\")\n",
    "else:\n",
    "    print(f\"Password: {password} is not valid\")\n",
    "    if not special_character:\n",
    "        print(\"Password must have a special character\")\n",
    "    if not digit:\n",
    "        print(\"Password must contain a number\")\n",
    "    if not upper:\n",
    "        print(\"Password must contain at least one upper case letter\")\n",
    "    if not lower:\n",
    "        print(\"Password must contain at least one lower case letter\")\n",
    "    if not length:\n",
    "        print(\"Password must be at least 10 characters in length\")\n",
    "\n"
   ]
  }
 ],
 "metadata": {
  "kernelspec": {
   "display_name": "Python 3",
   "language": "python",
   "name": "python3"
  },
  "language_info": {
   "codemirror_mode": {
    "name": "ipython",
    "version": 3
   },
   "file_extension": ".py",
   "mimetype": "text/x-python",
   "name": "python",
   "nbconvert_exporter": "python",
   "pygments_lexer": "ipython3",
   "version": "3.10.11"
  },
  "orig_nbformat": 4
 },
 "nbformat": 4,
 "nbformat_minor": 2
}
