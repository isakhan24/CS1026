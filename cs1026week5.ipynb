{
 "cells": [
  {
   "cell_type": "markdown",
   "metadata": {},
   "source": [
    "# Week 5: Functions"
   ]
  },
  {
   "cell_type": "markdown",
   "metadata": {},
   "source": [
    "Activity 1:"
   ]
  },
  {
   "cell_type": "code",
   "execution_count": 1,
   "metadata": {},
   "outputs": [
    {
     "name": "stdout",
     "output_type": "stream",
     "text": [
      "Hello, Python\n"
     ]
    }
   ],
   "source": [
    "def printHello(): \n",
    "    print(\"Hello, Python\")\n",
    "\n",
    "printHello()"
   ]
  },
  {
   "cell_type": "markdown",
   "metadata": {},
   "source": [
    "Activity 2:"
   ]
  },
  {
   "cell_type": "code",
   "execution_count": 4,
   "metadata": {},
   "outputs": [
    {
     "name": "stdout",
     "output_type": "stream",
     "text": [
      "Numbers 1 to 10:\n",
      "1 2 3 4 5 6 7 8 9 10\n",
      "Numbers in reverse: \n",
      "10 9 8 7 6 5 4 3 2 1\n"
     ]
    }
   ],
   "source": [
    "def printNumbers():\n",
    "    print(\"Numbers 1 to 10:\\n1 2 3 4 5 6 7 8 9 10\")\n",
    "\n",
    "def printReverse():\n",
    "    print(\"Numbers in reverse: \\n10 9 8 7 6 5 4 3 2 1\")\n",
    "\n",
    "printNumbers()\n",
    "printReverse()\n"
   ]
  },
  {
   "cell_type": "markdown",
   "metadata": {},
   "source": [
    "Activity 3:"
   ]
  },
  {
   "cell_type": "code",
   "execution_count": 8,
   "metadata": {},
   "outputs": [
    {
     "name": "stdout",
     "output_type": "stream",
     "text": [
      "hi\n",
      "hi\n",
      "hi\n",
      "hi\n",
      "hi\n",
      "hi\n"
     ]
    }
   ],
   "source": [
    "def main():\n",
    "    loop()\n",
    "    hi()\n",
    "\n",
    "def hi():\n",
    "    print(\"hi\")\n",
    "\n",
    "def loop():\n",
    "    for num in range (5):\n",
    "        hi()\n",
    "main()"
   ]
  },
  {
   "cell_type": "markdown",
   "metadata": {},
   "source": [
    "Activity 4:"
   ]
  },
  {
   "cell_type": "code",
   "execution_count": 10,
   "metadata": {},
   "outputs": [
    {
     "name": "stdout",
     "output_type": "stream",
     "text": [
      "-2\n",
      "-1\n",
      "0\n",
      "1\n",
      "2\n",
      "3\n"
     ]
    }
   ],
   "source": [
    "def printNumbersBetween(num1, num2):\n",
    "    for num in range(num1, num2 + 1):\n",
    "        print(num)\n",
    "\n",
    "def main():\n",
    "    num1 = int(input(\"Enter the first number: \"))\n",
    "    num2 = int(input(\"Enter the second number: \"))\n",
    "    printNumbersBetween(num1=num1,num2=num2)\n",
    "\n",
    "main()"
   ]
  },
  {
   "cell_type": "markdown",
   "metadata": {},
   "source": [
    "Activity 5:"
   ]
  },
  {
   "cell_type": "code",
   "execution_count": 13,
   "metadata": {},
   "outputs": [
    {
     "name": "stdout",
     "output_type": "stream",
     "text": [
      "The sum of even numbers between 10 and 2 (exclusive) is: 0\n"
     ]
    }
   ],
   "source": [
    "def sumOfEvenNumbers(num1, num2):\n",
    "    count = 0\n",
    "    for num in range (num1, num2):\n",
    "        if num % 2 == 0:\n",
    "            count += num\n",
    "    return count\n",
    "\n",
    "def main():\n",
    "    num1 = int(input(\"Enter the first number: \"))\n",
    "    num2 = int(input(\"Enter the second number: \"))\n",
    "    count = sumOfEvenNumbers(num1=num1,num2=num2)\n",
    "    print(f\"The sum of even numbers between {num1} and {num2} (exclusive) is: {count}\")\n",
    "\n",
    "main()"
   ]
  },
  {
   "cell_type": "markdown",
   "metadata": {},
   "source": [
    "Activity 6:"
   ]
  },
  {
   "cell_type": "code",
   "execution_count": 17,
   "metadata": {},
   "outputs": [
    {
     "name": "stdout",
     "output_type": "stream",
     "text": [
      "The string contains two or more 'a' characters\n"
     ]
    }
   ],
   "source": [
    "def main():\n",
    "    string = input(\"Please enter a string: \")\n",
    "    a = twoOrMore(string)\n",
    "\n",
    "    if a:\n",
    "        print(\"The string contains two or more 'a' characters\")\n",
    "    else:\n",
    "        print(\"The string does not contain two or more 'a' characters\")\n",
    "\n",
    "def twoOrMore(text):\n",
    "    count = 0\n",
    "    twoOrMore = False\n",
    "    for l in text:\n",
    "        if l == 'a':\n",
    "            count += 1\n",
    "    if count >= 2:\n",
    "        twoOrMore = True\n",
    "    return twoOrMore\n",
    "\n",
    "main()"
   ]
  },
  {
   "cell_type": "markdown",
   "metadata": {},
   "source": [
    "Activity 7:"
   ]
  },
  {
   "cell_type": "code",
   "execution_count": 26,
   "metadata": {},
   "outputs": [
    {
     "name": "stdout",
     "output_type": "stream",
     "text": [
      "20000000 + 3000000 + 400000 + 40000 + 5000 + 300 + 40 + 5\n"
     ]
    }
   ],
   "source": [
    "def main():\n",
    "    num = input(\"Enter any number: \")\n",
    "    b = breakdown(num)\n",
    "    print(b)\n",
    "\n",
    "def breakdown(number):\n",
    "    string = \"\"\n",
    "    while len(number) > 0:\n",
    "        firstDig = number[0]\n",
    "        number = number[1:]\n",
    "        \n",
    "        string += firstDig\n",
    "        string += \"0\"*len(number)\n",
    "        string += \" + \"\n",
    "\n",
    "    length = len(string)\n",
    "    return string[: length - 3]\n",
    "\n",
    "main()\n",
    "\n",
    "\n",
    "\n"
   ]
  },
  {
   "cell_type": "markdown",
   "metadata": {},
   "source": [
    "Activity 8:"
   ]
  },
  {
   "cell_type": "code",
   "execution_count": 38,
   "metadata": {},
   "outputs": [
    {
     "name": "stdout",
     "output_type": "stream",
     "text": [
      "$$$$$$$$$$$$$$$$$$$$$$$$$$$$\n",
      "$         ISA KHAN         $\n",
      "$$$$$$$$$$$$$$$$$$$$$$$$$$$$\n",
      "\n"
     ]
    }
   ],
   "source": [
    "def main():\n",
    "    string = input(\"Enter your title text: \")\n",
    "    symbol = input(\"Enter your symbol: \")\n",
    "    width = int(input(\"Enter extra width: \"))\n",
    "    case = input(\"Upper case? (Y/N): \").lower()\n",
    "    upper = False\n",
    "\n",
    "    if case != 'y' and case != 'n':\n",
    "        print(\"Invalid input\")\n",
    "    else:\n",
    "        if case == 'y':\n",
    "            upper = True\n",
    "\n",
    "        finished = title(string, symbol, width, upper)\n",
    "        print(finished)\n",
    "\n",
    "def title(text, symbol, width, upper):\n",
    "    symb_length = len(text) + 4 + (width*2)\n",
    "    result = \"\"\n",
    "    result += border(symbol, symb_length)\n",
    "    result += center(text, symbol, width, upper)\n",
    "    result += border(symbol, symb_length)\n",
    "    return result\n",
    "\n",
    "def border (symbol, width):\n",
    "    string = \"\"\n",
    "    string += f\"{symbol}\"*width\n",
    "    string += \"\\n\"\n",
    "    return string\n",
    "\n",
    "def center(text, symbol, width, upper):\n",
    "    string = \"\"\n",
    "    string += symbol\n",
    "    string += \" \"\n",
    "    string += \" \"*width\n",
    "\n",
    "    if upper:\n",
    "        string += f\"{text.upper()}\"\n",
    "    else:\n",
    "        string += text\n",
    "   \n",
    "    string += \" \"\n",
    "    string += \" \"*width \n",
    "    string += symbol\n",
    "    string += \"\\n\"\n",
    "    return string\n",
    "\n",
    "main()\n",
    "\n"
   ]
  }
 ],
 "metadata": {
  "kernelspec": {
   "display_name": "Python 3",
   "language": "python",
   "name": "python3"
  },
  "language_info": {
   "codemirror_mode": {
    "name": "ipython",
    "version": 3
   },
   "file_extension": ".py",
   "mimetype": "text/x-python",
   "name": "python",
   "nbconvert_exporter": "python",
   "pygments_lexer": "ipython3",
   "version": "3.10.11"
  },
  "orig_nbformat": 4
 },
 "nbformat": 4,
 "nbformat_minor": 2
}
