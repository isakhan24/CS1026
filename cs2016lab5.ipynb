{
 "cells": [
  {
   "cell_type": "markdown",
   "metadata": {},
   "source": [
    "# Lab 5\n",
    "## Practical Exercises\n",
    "Date: October 17th, 2023<br>\n",
    "Name: Isa Khan<br>\n",
    "Prof: Hanan Lutfiyya<br>\n",
    "Section: 002\n"
   ]
  },
  {
   "cell_type": "markdown",
   "metadata": {},
   "source": [
    "Activity 1:"
   ]
  },
  {
   "cell_type": "code",
   "execution_count": 3,
   "metadata": {},
   "outputs": [
    {
     "name": "stdout",
     "output_type": "stream",
     "text": [
      "You already entered 1\n",
      "You already entered 6\n",
      "[1, 2, 3, 4, 5, 6, 7, 8, 9, 0]\n"
     ]
    }
   ],
   "source": [
    "run = True\n",
    "lst = []\n",
    "\n",
    "while run:\n",
    "    number = int(input(\"Please enter a unique number: \"))\n",
    "\n",
    "    if number not in lst:\n",
    "        lst.append(number)\n",
    "    else:\n",
    "        print(f\"You already entered {number}\")\n",
    "\n",
    "    if len(lst) >= 10:\n",
    "        run = False\n",
    "\n",
    "print(lst)\n",
    "\n"
   ]
  },
  {
   "cell_type": "markdown",
   "metadata": {},
   "source": [
    "Activity 2:"
   ]
  },
  {
   "cell_type": "code",
   "execution_count": 4,
   "metadata": {},
   "outputs": [
    {
     "name": "stdout",
     "output_type": "stream",
     "text": [
      "2\n"
     ]
    }
   ],
   "source": [
    "lst = ['bgh', 'wer', 'yuy', '1661']\n",
    "count = 0\n",
    "\n",
    "for l in lst:\n",
    "    if len(l) >= 2 and l[0] == l[-1]:\n",
    "        count+=1\n",
    "\n",
    "print(count)"
   ]
  },
  {
   "cell_type": "markdown",
   "metadata": {},
   "source": [
    "Activity 3:"
   ]
  },
  {
   "cell_type": "code",
   "execution_count": 5,
   "metadata": {},
   "outputs": [
    {
     "name": "stdout",
     "output_type": "stream",
     "text": [
      "['zealot', 'zebra', 'zoo', 'a', 'absorb', 'am', 'ants', 'as', 'asparagus', 'at', 'bared', 'baseball', 'because', 'do', 'get', 'good', 'hello', 'hi', 'how', 'nice', 'pool', 'seven', 'silver', 'so', 'sword', 'tall', \"that's\", 'want', 'we', 'xylophone', 'you', 'you']\n"
     ]
    }
   ],
   "source": [
    "def zFirst(words):\n",
    "    zresult=[]\n",
    "    result=[]\n",
    "    for word in words:\n",
    "        if word.lower()[0] == 'z':\n",
    "            zresult.append(word)\n",
    "        else:\n",
    "            result.append(word)\n",
    "    \n",
    "    zresult.sort()\n",
    "    result.sort()\n",
    "    return zresult + result\n",
    "\n",
    "words = [\"hello\",'good','nice','as','at','baseball','absorb','sword','a','tall','so','bared','silver','hi','pool','we','am','seven',\n",
    "\n",
    "'do','you','want','ants','because',\"that's\",'how','you','get','zebra','zealot','zoo','xylophone','asparagus']\n",
    "\n",
    "print(zFirst(words))"
   ]
  },
  {
   "cell_type": "markdown",
   "metadata": {},
   "source": [
    "Activity 4:"
   ]
  },
  {
   "cell_type": "code",
   "execution_count": 13,
   "metadata": {},
   "outputs": [
    {
     "name": "stdout",
     "output_type": "stream",
     "text": [
      "Old Value at index 0 is: 1\n",
      "New Value at index 0 is: 2\n",
      "\n",
      "Old Value at index 1 is: 2\n",
      "New Value at index 1 is: 3\n",
      "\n",
      "Old Value at index 2 is: 3\n",
      "New Value at index 2 is: 4\n",
      "\n",
      "Old Value at index 3 is: 4\n",
      "New Value at index 3 is: 5\n",
      "\n",
      "Old Value at index 4 is: 5\n",
      "New Value at index 4 is: 6\n",
      "\n"
     ]
    }
   ],
   "source": [
    "values = [1,2,3,4,5]\n",
    "newValues = values.copy()\n",
    "for i in range(len(values)):\n",
    "    print(\"Old Value at index {} is: {}\".format(i, values[i]))\n",
    "    newValues[i] += 1\n",
    "    print(\"New Value at index {} is: {}\\n\".format(i, newValues[i]))"
   ]
  },
  {
   "cell_type": "code",
   "execution_count": 1,
   "metadata": {},
   "outputs": [
    {
     "name": "stdout",
     "output_type": "stream",
     "text": [
      "0\n",
      "1\n",
      "2\n",
      "3\n",
      "4\n",
      "5\n",
      "6\n",
      "7\n",
      "8\n",
      "9\n",
      "10\n",
      "11\n",
      "12\n"
     ]
    }
   ],
   "source": [
    "for num in range (13):\n",
    "    print(num)"
   ]
  }
 ],
 "metadata": {
  "kernelspec": {
   "display_name": "Python 3",
   "language": "python",
   "name": "python3"
  },
  "language_info": {
   "codemirror_mode": {
    "name": "ipython",
    "version": 3
   },
   "file_extension": ".py",
   "mimetype": "text/x-python",
   "name": "python",
   "nbconvert_exporter": "python",
   "pygments_lexer": "ipython3",
   "version": "3.10.11"
  }
 },
 "nbformat": 4,
 "nbformat_minor": 2
}
